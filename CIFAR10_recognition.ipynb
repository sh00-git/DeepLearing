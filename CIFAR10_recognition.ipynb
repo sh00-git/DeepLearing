{
  "nbformat": 4,
  "nbformat_minor": 0,
  "metadata": {
    "colab": {
      "name": "CIFAR10_recognition.ipynb",
      "provenance": [],
      "collapsed_sections": []
    },
    "kernelspec": {
      "display_name": "Python 3",
      "name": "python3"
    },
    "language_info": {
      "name": "python"
    },
    "accelerator": "GPU"
  },
  "cells": [
    {
      "cell_type": "markdown",
      "metadata": {
        "id": "7Gb4MzY_OsgZ"
      },
      "source": [
        "# CIFAR10을 CNN으로 학습하기. 여러 학습 방법으로 비교"
      ]
    },
    {
      "cell_type": "code",
      "metadata": {
        "id": "42Hr-_-VGFI_"
      },
      "source": [
        "import numpy as np\n",
        "import torch\n",
        "import torch.nn as nn\n",
        "import torch.optim as optim\n",
        "import torch.nn.init as init\n",
        "import torchvision.datasets as dset\n",
        "import torchvision.transforms as transforms\n",
        "from torch.utils.data import DataLoader\n",
        "from torch.autograd import Variable\n",
        "import matplotlib.pyplot as plt\n",
        "\n",
        "#(8) learning rate decay\n",
        "from torch.optim import lr_scheduler\n",
        "\n",
        "batch_size=64\n",
        "learning_rate=0.05\n",
        "num_epoch=50"
      ],
      "execution_count": 54,
      "outputs": []
    },
    {
      "cell_type": "markdown",
      "metadata": {
        "id": "hMzRBleiN3er"
      },
      "source": [
        "# 1. CIFAR10 train, test dataset 가져오기 (163 MB)\n",
        "\n",
        "#### MNIST: 11MB"
      ]
    },
    {
      "cell_type": "code",
      "metadata": {
        "id": "lZhs6BOdPLKt",
        "colab": {
          "base_uri": "https://localhost:8080/"
        },
        "outputId": "7e96ea51-fb2e-428d-e2b4-b77674b65d11"
      },
      "source": [
        "# cifar_train=dset.CIFAR10(\"CIFAR10/\", train=True, transform=transforms.ToTensor(), target_transform=None, download=True)\n",
        "# cifar_test=dset.CIFAR10(\"CIFAR10/\", train=False, transform=transforms.ToTensor(), target_transform=None, download=True)\n",
        "\n",
        "# cifar_train=dset.CIFAR10(\"CIFAR10/\", train=True, \n",
        "#                          transform=transforms.Compose([\n",
        "#                              transforms.Scale(36),\n",
        "#                              transforms.CenterCrop(32),\n",
        "#                              transforms.RandomHorizontalFlip(),\n",
        "#                              transforms.Lambda(lambda x: x.rotate(90)),\n",
        "#                              transforms.ToTensor()\n",
        "#                          ]))\n",
        "\n",
        "# (4) Data Normalization\n",
        "cifar_train=dset.CIFAR10(\"CIFAR10/\", train=True, \n",
        "                         transform=transforms.Compose([\n",
        "                             transforms.ToTensor(),\n",
        "                             transforms.Normalize(mean=(0.5,0.5,0.5), std=(0.5,0.5,0.5)),\n",
        "                         ])\n",
        "                        , target_transform=None, download=True)\n",
        "\n",
        "cifar_test=dset.CIFAR10(\"CIFAR10/\", train=False, \n",
        "                         transform=transforms.Compose([\n",
        "                             transforms.ToTensor(),\n",
        "                             transforms.Normalize(mean=(0.5,0.5,0.5), std=(0.5,0.5,0.5)),\n",
        "                         ])\n",
        "                        , target_transform=None, download=True)"
      ],
      "execution_count": 55,
      "outputs": [
        {
          "output_type": "stream",
          "text": [
            "Files already downloaded and verified\n",
            "Files already downloaded and verified\n"
          ],
          "name": "stdout"
        }
      ]
    },
    {
      "cell_type": "markdown",
      "metadata": {
        "id": "Q9l-zOyEPWSc"
      },
      "source": [
        "# 2. 대략적인 데이터 형태"
      ]
    },
    {
      "cell_type": "code",
      "metadata": {
        "id": "Y8ufH138PbmQ"
      },
      "source": [
        "# print (\"cifar_train 길이:\", len(cifar_train))\n",
        "# print (\"cifar_test 길이:\", len(cifar_test))\n",
        "\n",
        "# # 데이터 하나 형태\n",
        "# image, label=cifar_train.__getitem__(1)  # 1번째 데이터\n",
        "# print (\"image data 형태:\", image.size())\n",
        "# print (\"label: \", label)\n",
        "\n",
        "# # 그리기\n",
        "# img=image.numpy()  # image 타입을 numpy로 변환(3, 32, 32)\n",
        "\n",
        "# # (3,32,32) -> (32,32,3)\n",
        "# r,g,b=img[0,:,:], img[1,:,:], img[2,:,:]\n",
        "# #img=img.reshape(img.shape[1], img.shape[2], img.shape[0])\n",
        "# img2=np.zeros((img.shape[1], img.shape[2], img.shape[0]))\n",
        "# img2[:,:,0], img2[:,:,1], img2[:,:,2]=r,g,b\n",
        "\n",
        "# plt.title(\"lavel: %d\" %label)\n",
        "# plt.imshow(img2, interpolation='bicubic')\n",
        "# plt.show()"
      ],
      "execution_count": 56,
      "outputs": []
    },
    {
      "cell_type": "code",
      "metadata": {
        "id": "reJ7VN5kPeUz"
      },
      "source": [
        "def ComputeAccr(dloader, imodel):\n",
        "    correct=0\n",
        "    total=0\n",
        "    \n",
        "    for j, [imgs, labels] in enumerate(dloader):  # batch_size 만큼\n",
        "        img=Variable(imgs,volatile=True).cuda()  # x\n",
        "        #label=Variable(labels)  # y\n",
        "        label = Variable(labels).cuda()  # GPU 가속시\n",
        "        # .cuda() : GPU 에 로드되기 위함. 만약 CPU로 설정되어 있다면 에러남\n",
        "        \n",
        "        \n",
        "        output=imodel.forward(img)  # forward prop.\n",
        "        _, output_index=torch.max(output, 1)\n",
        "        \n",
        "        total += label.size(0)\n",
        "        correct += (output_index == label).sum().float()\n",
        "    print(\"Accuracy of Test Data: {}\".format(100*correct/total))"
      ],
      "execution_count": 57,
      "outputs": []
    },
    {
      "cell_type": "code",
      "metadata": {
        "id": "z7l5RDZSPk9Z"
      },
      "source": [
        "# === 3. 데이터 로드함수 ===\n",
        "train_loader=torch.utils.data.DataLoader(list(cifar_train)[:], batch_size=batch_size, shuffle=True, num_workers=2, drop_last=True)\n",
        "test_loader=torch.utils.data.DataLoader(cifar_test, batch_size=batch_size, shuffle=False, num_workers=2, drop_last=True)\n",
        "\n",
        "# === 4. 모델 선언 ===\n",
        "class CNN(nn.Module):\n",
        "    def __init__(self):\n",
        "        super(CNN,self).__init__()\n",
        "        self.layer=nn.Sequential(\n",
        "            nn.Conv2d(3,16,3,padding=1),\n",
        "            nn.ReLU(),\n",
        "            nn.Dropout2d(0,2),  # (2) drop out\n",
        "            nn.BatchNorm2d(16),  # (6) Batch normalization\n",
        "            nn.Conv2d(16,32,3,padding=1),\n",
        "            nn.ReLU(),\n",
        "            nn.Dropout2d(0.2),\n",
        "            nn.BatchNorm2d(32),\n",
        "            nn.MaxPool2d(2,2),\n",
        "            nn.Conv2d(32,64,3,padding=1),\n",
        "            nn.ReLU(),\n",
        "            nn.Dropout2d(0.2),\n",
        "            nn.BatchNorm2d(64),\n",
        "            nn.MaxPool2d(2,2)\n",
        "        )\n",
        "        self.fc_layer=nn.Sequential(\n",
        "            nn.Linear(64*8*8, 100),\n",
        "            nn.ReLU(),\n",
        "            nn.Dropout2d(0.2),\n",
        "            nn.BatchNorm1d(100),\n",
        "            nn.Linear(100,10)\n",
        "        )\n",
        "        \n",
        "        # (3) weight initialization\n",
        "        # for m in self.modules():\n",
        "        #     if isinstance(m, nn.Conv2d):\n",
        "        #         init.kaiming_normal(m.weight.data)  # RELU 일 때\n",
        "        #         m.bias.data.fill_(0)\n",
        "        #     if isinstance(m, nn.Linear):\n",
        "        #         init.kaiming_normal(m.weight.data)\n",
        "        #         m.bias.data.fill_(0)\n",
        "    \n",
        "    def forward(self, x):\n",
        "        out=self.layer(x)\n",
        "        out=out.view(batch_size,-1)\n",
        "        out=self.fc_layer(out)\n",
        "        \n",
        "        return out\n",
        "model=CNN().cuda()"
      ],
      "execution_count": 58,
      "outputs": []
    },
    {
      "cell_type": "code",
      "metadata": {
        "colab": {
          "base_uri": "https://localhost:8080/"
        },
        "id": "6gmMieYoPmMB",
        "outputId": "a5b88944-f414-4315-ecbe-1c18661180ab"
      },
      "source": [
        "# === 5. loss, optimizer ===\n",
        "loss_func=nn.CrossEntropyLoss()\n",
        "optimizer=torch.optim.SGD(model.parameters(), lr=learning_rate)\n",
        "#optimizer=torch.optim.Adam(model.parameters(), lr=learning_rate)  # (6) Adam optimizer\n",
        "\n",
        "scheduler=lr_scheduler.StepLR(optimizer, step_size=20, gamma=0.2)  # (7) learning rate decay\n",
        "\n",
        "model.train()  \n",
        "# === 6. 학습 ===\n",
        "for i in range(num_epoch):\n",
        "    for j, [image, label] in enumerate(train_loader):\n",
        "        x=Variable(image).cuda()\n",
        "        y_=Variable(label).cuda()\n",
        "        \n",
        "        optimizer.zero_grad()\n",
        "        output=model.forward(x)\n",
        "        loss=loss_func(output,y_)\n",
        "        loss.backward()\n",
        "        optimizer.step()\n",
        "        \n",
        "        if j%1000==0:\n",
        "            print(j,loss)"
      ],
      "execution_count": 59,
      "outputs": [
        {
          "output_type": "stream",
          "text": [
            "0 tensor(2.3700, device='cuda:0', grad_fn=<NllLossBackward>)\n",
            "0 tensor(1.2120, device='cuda:0', grad_fn=<NllLossBackward>)\n",
            "0 tensor(1.0881, device='cuda:0', grad_fn=<NllLossBackward>)\n",
            "0 tensor(0.8726, device='cuda:0', grad_fn=<NllLossBackward>)\n",
            "0 tensor(1.3772, device='cuda:0', grad_fn=<NllLossBackward>)\n",
            "0 tensor(0.8793, device='cuda:0', grad_fn=<NllLossBackward>)\n",
            "0 tensor(0.6987, device='cuda:0', grad_fn=<NllLossBackward>)\n",
            "0 tensor(0.8523, device='cuda:0', grad_fn=<NllLossBackward>)\n",
            "0 tensor(0.6935, device='cuda:0', grad_fn=<NllLossBackward>)\n",
            "0 tensor(0.8147, device='cuda:0', grad_fn=<NllLossBackward>)\n",
            "0 tensor(0.8952, device='cuda:0', grad_fn=<NllLossBackward>)\n",
            "0 tensor(0.6776, device='cuda:0', grad_fn=<NllLossBackward>)\n",
            "0 tensor(0.5263, device='cuda:0', grad_fn=<NllLossBackward>)\n",
            "0 tensor(0.4938, device='cuda:0', grad_fn=<NllLossBackward>)\n",
            "0 tensor(0.4948, device='cuda:0', grad_fn=<NllLossBackward>)\n",
            "0 tensor(0.3449, device='cuda:0', grad_fn=<NllLossBackward>)\n",
            "0 tensor(0.6403, device='cuda:0', grad_fn=<NllLossBackward>)\n",
            "0 tensor(0.6157, device='cuda:0', grad_fn=<NllLossBackward>)\n",
            "0 tensor(0.4126, device='cuda:0', grad_fn=<NllLossBackward>)\n",
            "0 tensor(0.3547, device='cuda:0', grad_fn=<NllLossBackward>)\n",
            "0 tensor(0.4312, device='cuda:0', grad_fn=<NllLossBackward>)\n",
            "0 tensor(0.4391, device='cuda:0', grad_fn=<NllLossBackward>)\n",
            "0 tensor(0.5164, device='cuda:0', grad_fn=<NllLossBackward>)\n",
            "0 tensor(0.3724, device='cuda:0', grad_fn=<NllLossBackward>)\n",
            "0 tensor(0.4156, device='cuda:0', grad_fn=<NllLossBackward>)\n",
            "0 tensor(0.4148, device='cuda:0', grad_fn=<NllLossBackward>)\n",
            "0 tensor(0.3783, device='cuda:0', grad_fn=<NllLossBackward>)\n",
            "0 tensor(0.4591, device='cuda:0', grad_fn=<NllLossBackward>)\n",
            "0 tensor(0.3784, device='cuda:0', grad_fn=<NllLossBackward>)\n",
            "0 tensor(0.3976, device='cuda:0', grad_fn=<NllLossBackward>)\n",
            "0 tensor(0.3239, device='cuda:0', grad_fn=<NllLossBackward>)\n",
            "0 tensor(0.2589, device='cuda:0', grad_fn=<NllLossBackward>)\n",
            "0 tensor(0.3603, device='cuda:0', grad_fn=<NllLossBackward>)\n",
            "0 tensor(0.4788, device='cuda:0', grad_fn=<NllLossBackward>)\n",
            "0 tensor(0.4089, device='cuda:0', grad_fn=<NllLossBackward>)\n",
            "0 tensor(0.4158, device='cuda:0', grad_fn=<NllLossBackward>)\n",
            "0 tensor(0.3301, device='cuda:0', grad_fn=<NllLossBackward>)\n",
            "0 tensor(0.2837, device='cuda:0', grad_fn=<NllLossBackward>)\n",
            "0 tensor(0.3305, device='cuda:0', grad_fn=<NllLossBackward>)\n",
            "0 tensor(0.3124, device='cuda:0', grad_fn=<NllLossBackward>)\n",
            "0 tensor(0.2195, device='cuda:0', grad_fn=<NllLossBackward>)\n",
            "0 tensor(0.3415, device='cuda:0', grad_fn=<NllLossBackward>)\n",
            "0 tensor(0.3139, device='cuda:0', grad_fn=<NllLossBackward>)\n",
            "0 tensor(0.3055, device='cuda:0', grad_fn=<NllLossBackward>)\n",
            "0 tensor(0.2602, device='cuda:0', grad_fn=<NllLossBackward>)\n",
            "0 tensor(0.2949, device='cuda:0', grad_fn=<NllLossBackward>)\n",
            "0 tensor(0.2417, device='cuda:0', grad_fn=<NllLossBackward>)\n",
            "0 tensor(0.3221, device='cuda:0', grad_fn=<NllLossBackward>)\n",
            "0 tensor(0.2850, device='cuda:0', grad_fn=<NllLossBackward>)\n",
            "0 tensor(0.2926, device='cuda:0', grad_fn=<NllLossBackward>)\n"
          ],
          "name": "stdout"
        }
      ]
    },
    {
      "cell_type": "code",
      "metadata": {
        "colab": {
          "base_uri": "https://localhost:8080/"
        },
        "id": "t7VMpLYdP3VF",
        "outputId": "0ac3c419-d143-47a7-fe60-8f2dd17e9c29"
      },
      "source": [
        "model.eval()\n",
        "ComputeAccr(test_loader, model)"
      ],
      "execution_count": 60,
      "outputs": [
        {
          "output_type": "stream",
          "text": [
            "/usr/local/lib/python3.7/dist-packages/ipykernel_launcher.py:6: UserWarning: volatile was removed and now has no effect. Use `with torch.no_grad():` instead.\n",
            "  \n"
          ],
          "name": "stderr"
        },
        {
          "output_type": "stream",
          "text": [
            "Accuracy of Test Data: 76.65264892578125\n"
          ],
          "name": "stdout"
        }
      ]
    },
    {
      "cell_type": "code",
      "metadata": {
        "id": "OEYNbm6-0-6f"
      },
      "source": [
        "netname='./mlp_weight.pkl'\n",
        "torch.save(model, netname, )"
      ],
      "execution_count": 62,
      "outputs": []
    }
  ]
}